{
 "cells": [
  {
   "cell_type": "code",
   "execution_count": 4,
   "id": "dff70146",
   "metadata": {},
   "outputs": [],
   "source": [
    "# importing required modules\n",
    "\n",
    "import pandas as pd  # data processing, CSV file I/O (e.g. pd.read_csv)\n",
    "import plotly.express as px"
   ]
  },
  {
   "cell_type": "code",
   "execution_count": 3,
   "id": "6aa89ade",
   "metadata": {},
   "outputs": [],
   "source": [
    "# 1.Loading Dataset\n",
    "df=pd.read_csv('https://raw.githubusercontent.com/plotly/datasets/master/salaries-ai-jobs-net.csv')"
   ]
  },
  {
   "cell_type": "code",
   "execution_count": 15,
   "id": "6f8cd338",
   "metadata": {},
   "outputs": [
    {
     "data": {
      "text/html": [
       "<div>\n",
       "<style scoped>\n",
       "    .dataframe tbody tr th:only-of-type {\n",
       "        vertical-align: middle;\n",
       "    }\n",
       "\n",
       "    .dataframe tbody tr th {\n",
       "        vertical-align: top;\n",
       "    }\n",
       "\n",
       "    .dataframe thead th {\n",
       "        text-align: right;\n",
       "    }\n",
       "</style>\n",
       "<table border=\"1\" class=\"dataframe\">\n",
       "  <thead>\n",
       "    <tr style=\"text-align: right;\">\n",
       "      <th></th>\n",
       "      <th>work_year</th>\n",
       "      <th>experience_level</th>\n",
       "      <th>employment_type</th>\n",
       "      <th>job_title</th>\n",
       "      <th>salary</th>\n",
       "      <th>salary_currency</th>\n",
       "      <th>salary_in_usd</th>\n",
       "      <th>employee_residence</th>\n",
       "      <th>remote_ratio</th>\n",
       "      <th>company_location</th>\n",
       "      <th>company_size</th>\n",
       "    </tr>\n",
       "  </thead>\n",
       "  <tbody>\n",
       "    <tr>\n",
       "      <th>0</th>\n",
       "      <td>2022</td>\n",
       "      <td>MI</td>\n",
       "      <td>FT</td>\n",
       "      <td>Data Analyst</td>\n",
       "      <td>90000</td>\n",
       "      <td>SGD</td>\n",
       "      <td>65950</td>\n",
       "      <td>SG</td>\n",
       "      <td>50</td>\n",
       "      <td>SG</td>\n",
       "      <td>M</td>\n",
       "    </tr>\n",
       "    <tr>\n",
       "      <th>1</th>\n",
       "      <td>2022</td>\n",
       "      <td>MI</td>\n",
       "      <td>FT</td>\n",
       "      <td>AI Scientist</td>\n",
       "      <td>200000</td>\n",
       "      <td>USD</td>\n",
       "      <td>200000</td>\n",
       "      <td>US</td>\n",
       "      <td>100</td>\n",
       "      <td>US</td>\n",
       "      <td>M</td>\n",
       "    </tr>\n",
       "    <tr>\n",
       "      <th>2</th>\n",
       "      <td>2022</td>\n",
       "      <td>EN</td>\n",
       "      <td>FT</td>\n",
       "      <td>Machine Learning Developer</td>\n",
       "      <td>180000</td>\n",
       "      <td>USD</td>\n",
       "      <td>180000</td>\n",
       "      <td>US</td>\n",
       "      <td>100</td>\n",
       "      <td>US</td>\n",
       "      <td>L</td>\n",
       "    </tr>\n",
       "    <tr>\n",
       "      <th>3</th>\n",
       "      <td>2022</td>\n",
       "      <td>MI</td>\n",
       "      <td>FT</td>\n",
       "      <td>Data Scientist</td>\n",
       "      <td>153000</td>\n",
       "      <td>USD</td>\n",
       "      <td>153000</td>\n",
       "      <td>US</td>\n",
       "      <td>100</td>\n",
       "      <td>US</td>\n",
       "      <td>L</td>\n",
       "    </tr>\n",
       "    <tr>\n",
       "      <th>4</th>\n",
       "      <td>2022</td>\n",
       "      <td>SE</td>\n",
       "      <td>FT</td>\n",
       "      <td>Data Engineer</td>\n",
       "      <td>210000</td>\n",
       "      <td>USD</td>\n",
       "      <td>210000</td>\n",
       "      <td>US</td>\n",
       "      <td>100</td>\n",
       "      <td>US</td>\n",
       "      <td>M</td>\n",
       "    </tr>\n",
       "  </tbody>\n",
       "</table>\n",
       "</div>"
      ],
      "text/plain": [
       "   work_year experience_level employment_type                   job_title  \\\n",
       "0       2022               MI              FT                Data Analyst   \n",
       "1       2022               MI              FT                AI Scientist   \n",
       "2       2022               EN              FT  Machine Learning Developer   \n",
       "3       2022               MI              FT              Data Scientist   \n",
       "4       2022               SE              FT               Data Engineer   \n",
       "\n",
       "   salary salary_currency  salary_in_usd employee_residence  remote_ratio  \\\n",
       "0   90000             SGD          65950                 SG            50   \n",
       "1  200000             USD         200000                 US           100   \n",
       "2  180000             USD         180000                 US           100   \n",
       "3  153000             USD         153000                 US           100   \n",
       "4  210000             USD         210000                 US           100   \n",
       "\n",
       "  company_location company_size  \n",
       "0               SG            M  \n",
       "1               US            M  \n",
       "2               US            L  \n",
       "3               US            L  \n",
       "4               US            M  "
      ]
     },
     "execution_count": 15,
     "metadata": {},
     "output_type": "execute_result"
    }
   ],
   "source": [
    "# Viewing top 5 rows\n",
    "df.head()"
   ]
  },
  {
   "cell_type": "code",
   "execution_count": 42,
   "id": "987bba3d",
   "metadata": {},
   "outputs": [
    {
     "data": {
      "text/html": [
       "<div>\n",
       "<style scoped>\n",
       "    .dataframe tbody tr th:only-of-type {\n",
       "        vertical-align: middle;\n",
       "    }\n",
       "\n",
       "    .dataframe tbody tr th {\n",
       "        vertical-align: top;\n",
       "    }\n",
       "\n",
       "    .dataframe thead th {\n",
       "        text-align: right;\n",
       "    }\n",
       "</style>\n",
       "<table border=\"1\" class=\"dataframe\">\n",
       "  <thead>\n",
       "    <tr style=\"text-align: right;\">\n",
       "      <th></th>\n",
       "      <th>work_year</th>\n",
       "      <th>experience_level</th>\n",
       "      <th>employment_type</th>\n",
       "      <th>job_title</th>\n",
       "      <th>salary</th>\n",
       "      <th>salary_currency</th>\n",
       "      <th>salary_in_usd</th>\n",
       "      <th>employee_residence</th>\n",
       "      <th>remote_ratio</th>\n",
       "      <th>company_location</th>\n",
       "      <th>company_size</th>\n",
       "    </tr>\n",
       "  </thead>\n",
       "  <tbody>\n",
       "    <tr>\n",
       "      <th>632</th>\n",
       "      <td>2020</td>\n",
       "      <td>SE</td>\n",
       "      <td>FT</td>\n",
       "      <td>Data Scientist</td>\n",
       "      <td>412000</td>\n",
       "      <td>USD</td>\n",
       "      <td>412000</td>\n",
       "      <td>US</td>\n",
       "      <td>100</td>\n",
       "      <td>US</td>\n",
       "      <td>L</td>\n",
       "    </tr>\n",
       "    <tr>\n",
       "      <th>633</th>\n",
       "      <td>2021</td>\n",
       "      <td>MI</td>\n",
       "      <td>FT</td>\n",
       "      <td>Principal Data Scientist</td>\n",
       "      <td>151000</td>\n",
       "      <td>USD</td>\n",
       "      <td>151000</td>\n",
       "      <td>US</td>\n",
       "      <td>100</td>\n",
       "      <td>US</td>\n",
       "      <td>L</td>\n",
       "    </tr>\n",
       "    <tr>\n",
       "      <th>634</th>\n",
       "      <td>2020</td>\n",
       "      <td>EN</td>\n",
       "      <td>FT</td>\n",
       "      <td>Data Scientist</td>\n",
       "      <td>105000</td>\n",
       "      <td>USD</td>\n",
       "      <td>105000</td>\n",
       "      <td>US</td>\n",
       "      <td>100</td>\n",
       "      <td>US</td>\n",
       "      <td>S</td>\n",
       "    </tr>\n",
       "    <tr>\n",
       "      <th>635</th>\n",
       "      <td>2020</td>\n",
       "      <td>EN</td>\n",
       "      <td>CT</td>\n",
       "      <td>Business Data Analyst</td>\n",
       "      <td>100000</td>\n",
       "      <td>USD</td>\n",
       "      <td>100000</td>\n",
       "      <td>US</td>\n",
       "      <td>100</td>\n",
       "      <td>US</td>\n",
       "      <td>L</td>\n",
       "    </tr>\n",
       "    <tr>\n",
       "      <th>636</th>\n",
       "      <td>2021</td>\n",
       "      <td>SE</td>\n",
       "      <td>FT</td>\n",
       "      <td>Data Science Manager</td>\n",
       "      <td>7000000</td>\n",
       "      <td>INR</td>\n",
       "      <td>94665</td>\n",
       "      <td>IN</td>\n",
       "      <td>50</td>\n",
       "      <td>IN</td>\n",
       "      <td>L</td>\n",
       "    </tr>\n",
       "  </tbody>\n",
       "</table>\n",
       "</div>"
      ],
      "text/plain": [
       "    work_year experience_level employment_type                 job_title  \\\n",
       "632      2020               SE              FT            Data Scientist   \n",
       "633      2021               MI              FT  Principal Data Scientist   \n",
       "634      2020               EN              FT            Data Scientist   \n",
       "635      2020               EN              CT     Business Data Analyst   \n",
       "636      2021               SE              FT      Data Science Manager   \n",
       "\n",
       "      salary salary_currency  salary_in_usd employee_residence  remote_ratio  \\\n",
       "632   412000             USD         412000                 US           100   \n",
       "633   151000             USD         151000                 US           100   \n",
       "634   105000             USD         105000                 US           100   \n",
       "635   100000             USD         100000                 US           100   \n",
       "636  7000000             INR          94665                 IN            50   \n",
       "\n",
       "    company_location company_size  \n",
       "632               US            L  \n",
       "633               US            L  \n",
       "634               US            S  \n",
       "635               US            L  \n",
       "636               IN            L  "
      ]
     },
     "execution_count": 42,
     "metadata": {},
     "output_type": "execute_result"
    }
   ],
   "source": [
    "# Viewing bottom 5 rows\n",
    "df.tail()"
   ]
  },
  {
   "cell_type": "markdown",
   "id": "e8e6b9dd",
   "metadata": {},
   "source": [
    "### Column list\n",
    "#### 1. work_year : Employee employment year\n",
    "#### 2. experience_level : Indicates level of knowladge of the employee\n",
    "#### 3. employment_type : To show the employee is casual wage Labourers or Regular Salaried.\n",
    "#### 4. job_title : A job title is a specific designation of a post in AI.\n",
    "#### 5. salary_in_usd : The money he receives for his work in US currency.\n",
    "#### 6. employee_residence: Employee Location\n",
    "#### 7. company_location: Represent at which companie's branch the employees is working \n",
    "#### 8. remote_ratio : Describe at what ration the employee work remotly (ie. work from home)\n",
    "#### 9. company_size : It shows how large the company is."
   ]
  },
  {
   "cell_type": "markdown",
   "id": "69d95b67",
   "metadata": {},
   "source": [
    "### Data Understanding"
   ]
  },
  {
   "cell_type": "code",
   "execution_count": 18,
   "id": "8252fa49",
   "metadata": {},
   "outputs": [
    {
     "data": {
      "text/plain": [
       "637"
      ]
     },
     "execution_count": 18,
     "metadata": {},
     "output_type": "execute_result"
    }
   ],
   "source": [
    "# No.of rows in the dataset\n",
    "df.shape[0]"
   ]
  },
  {
   "cell_type": "code",
   "execution_count": 16,
   "id": "3a68fbe7",
   "metadata": {},
   "outputs": [
    {
     "name": "stdout",
     "output_type": "stream",
     "text": [
      "<class 'pandas.core.frame.DataFrame'>\n",
      "RangeIndex: 637 entries, 0 to 636\n",
      "Data columns (total 11 columns):\n",
      " #   Column              Non-Null Count  Dtype \n",
      "---  ------              --------------  ----- \n",
      " 0   work_year           637 non-null    int64 \n",
      " 1   experience_level    637 non-null    object\n",
      " 2   employment_type     637 non-null    object\n",
      " 3   job_title           637 non-null    object\n",
      " 4   salary              637 non-null    int64 \n",
      " 5   salary_currency     637 non-null    object\n",
      " 6   salary_in_usd       637 non-null    int64 \n",
      " 7   employee_residence  637 non-null    object\n",
      " 8   remote_ratio        637 non-null    int64 \n",
      " 9   company_location    637 non-null    object\n",
      " 10  company_size        637 non-null    object\n",
      "dtypes: int64(4), object(7)\n",
      "memory usage: 54.9+ KB\n"
     ]
    }
   ],
   "source": [
    "df.info()"
   ]
  },
  {
   "cell_type": "markdown",
   "id": "f47480b5",
   "metadata": {},
   "source": [
    "#### Since no.of rows and non-null value counts of all columns are same, there is no null values in the dataset"
   ]
  },
  {
   "cell_type": "code",
   "execution_count": 20,
   "id": "6e38e711",
   "metadata": {},
   "outputs": [
    {
     "data": {
      "text/html": [
       "<div>\n",
       "<style scoped>\n",
       "    .dataframe tbody tr th:only-of-type {\n",
       "        vertical-align: middle;\n",
       "    }\n",
       "\n",
       "    .dataframe tbody tr th {\n",
       "        vertical-align: top;\n",
       "    }\n",
       "\n",
       "    .dataframe thead th {\n",
       "        text-align: right;\n",
       "    }\n",
       "</style>\n",
       "<table border=\"1\" class=\"dataframe\">\n",
       "  <thead>\n",
       "    <tr style=\"text-align: right;\">\n",
       "      <th></th>\n",
       "      <th>work_year</th>\n",
       "      <th>salary</th>\n",
       "      <th>salary_in_usd</th>\n",
       "      <th>remote_ratio</th>\n",
       "    </tr>\n",
       "  </thead>\n",
       "  <tbody>\n",
       "    <tr>\n",
       "      <th>count</th>\n",
       "      <td>637.000000</td>\n",
       "      <td>6.370000e+02</td>\n",
       "      <td>637.000000</td>\n",
       "      <td>637.000000</td>\n",
       "    </tr>\n",
       "    <tr>\n",
       "      <th>mean</th>\n",
       "      <td>2021.430141</td>\n",
       "      <td>3.151061e+05</td>\n",
       "      <td>113275.439560</td>\n",
       "      <td>70.879121</td>\n",
       "    </tr>\n",
       "    <tr>\n",
       "      <th>std</th>\n",
       "      <td>0.689250</td>\n",
       "      <td>1.508096e+06</td>\n",
       "      <td>70874.620746</td>\n",
       "      <td>40.869244</td>\n",
       "    </tr>\n",
       "    <tr>\n",
       "      <th>min</th>\n",
       "      <td>2020.000000</td>\n",
       "      <td>4.000000e+03</td>\n",
       "      <td>2859.000000</td>\n",
       "      <td>0.000000</td>\n",
       "    </tr>\n",
       "    <tr>\n",
       "      <th>25%</th>\n",
       "      <td>2021.000000</td>\n",
       "      <td>7.000000e+04</td>\n",
       "      <td>63831.000000</td>\n",
       "      <td>50.000000</td>\n",
       "    </tr>\n",
       "    <tr>\n",
       "      <th>50%</th>\n",
       "      <td>2022.000000</td>\n",
       "      <td>1.150000e+05</td>\n",
       "      <td>103000.000000</td>\n",
       "      <td>100.000000</td>\n",
       "    </tr>\n",
       "    <tr>\n",
       "      <th>75%</th>\n",
       "      <td>2022.000000</td>\n",
       "      <td>1.650000e+05</td>\n",
       "      <td>150075.000000</td>\n",
       "      <td>100.000000</td>\n",
       "    </tr>\n",
       "    <tr>\n",
       "      <th>max</th>\n",
       "      <td>2022.000000</td>\n",
       "      <td>3.040000e+07</td>\n",
       "      <td>600000.000000</td>\n",
       "      <td>100.000000</td>\n",
       "    </tr>\n",
       "  </tbody>\n",
       "</table>\n",
       "</div>"
      ],
      "text/plain": [
       "         work_year        salary  salary_in_usd  remote_ratio\n",
       "count   637.000000  6.370000e+02     637.000000    637.000000\n",
       "mean   2021.430141  3.151061e+05  113275.439560     70.879121\n",
       "std       0.689250  1.508096e+06   70874.620746     40.869244\n",
       "min    2020.000000  4.000000e+03    2859.000000      0.000000\n",
       "25%    2021.000000  7.000000e+04   63831.000000     50.000000\n",
       "50%    2022.000000  1.150000e+05  103000.000000    100.000000\n",
       "75%    2022.000000  1.650000e+05  150075.000000    100.000000\n",
       "max    2022.000000  3.040000e+07  600000.000000    100.000000"
      ]
     },
     "execution_count": 20,
     "metadata": {},
     "output_type": "execute_result"
    }
   ],
   "source": [
    "#description of the data in the DataFrame.\n",
    "df.describe()"
   ]
  },
  {
   "cell_type": "markdown",
   "id": "e801a5ee",
   "metadata": {},
   "source": [
    "### With the above command, we can easily figure out these points:\n",
    "#### 1. Employees minimum salary is 2859 USD.\n",
    "#### 2. Employees maximum salary is 600000 USD.\n",
    "#### 3. Data is in the year between 2020 and 2022.\n",
    "#### 4. From remot_ration it it shows employees worked completely in office and completely in work-from-home. \n",
    "#### 5. No.of records in the dataframe is 637.\n",
    "#### 6. Average slary to the employee is 113275 USD.\n",
    "#### 7. Employees worked 70% in remot"
   ]
  },
  {
   "cell_type": "code",
   "execution_count": 41,
   "id": "cafe83f5",
   "metadata": {},
   "outputs": [
    {
     "data": {
      "text/plain": [
       "work_year               3\n",
       "experience_level        4\n",
       "employment_type         4\n",
       "job_title              50\n",
       "salary                282\n",
       "salary_currency        17\n",
       "salary_in_usd         382\n",
       "employee_residence     59\n",
       "remote_ratio            3\n",
       "company_location       52\n",
       "company_size            3\n",
       "dtype: int64"
      ]
     },
     "execution_count": 41,
     "metadata": {},
     "output_type": "execute_result"
    }
   ],
   "source": [
    "df.nunique()"
   ]
  },
  {
   "cell_type": "markdown",
   "id": "0e977bbd",
   "metadata": {},
   "source": [
    "### From the above data we can conform the below mentioned point : \n",
    "#### 1. There are three different work years in the given data set.\n",
    "#### 2. Experience level is classified into 4 different ways\n",
    "#### 3. There are 50 types of job in AI.\n",
    "#### 4. Employees are getting salary in 17 different currency.\n",
    "#### 5. In 52 location the companies are located with AI jobs.\n",
    "#### 6. Based on size of the company it was classified into 3 different ways\n"
   ]
  },
  {
   "cell_type": "code",
   "execution_count": 22,
   "id": "29648ace",
   "metadata": {},
   "outputs": [],
   "source": [
    "# Imported required modules for visualization\n",
    "import matplotlib.pyplot as plt\n",
    "import seaborn as sns\n",
    "\n",
    "%matplotlib inline"
   ]
  },
  {
   "cell_type": "markdown",
   "id": "ad231398",
   "metadata": {},
   "source": [
    "### Univarient analysis"
   ]
  },
  {
   "cell_type": "code",
   "execution_count": 28,
   "id": "232f048b",
   "metadata": {},
   "outputs": [
    {
     "data": {
      "text/plain": [
       "(array([347.,   0.,   0.,   0.,   0.,  73.,   0.,   0.,   0., 217.]),\n",
       " array([0. , 0.2, 0.4, 0.6, 0.8, 1. , 1.2, 1.4, 1.6, 1.8, 2. ]),\n",
       " <BarContainer object of 10 artists>)"
      ]
     },
     "execution_count": 28,
     "metadata": {},
     "output_type": "execute_result"
    },
    {
     "data": {
      "image/png": "[encoded data removed]",
      "text/plain": [
       "<Figure size 432x288 with 1 Axes>"
      ]
     },
     "metadata": {
      "needs_background": "light"
     },
     "output_type": "display_data"
    }
   ],
   "source": [
    "plt.hist(df['work_year'],color ='green')"
   ]
  },
  {
   "cell_type": "markdown",
   "id": "bc032048",
   "metadata": {},
   "source": [
    "#### In 2020 no.of employees in AI job was less over the years it was increasing gradually and in 2022 count of employees reached 350 and it was more than 450% compare to the year 2020."
   ]
  },
  {
   "cell_type": "code",
   "execution_count": 39,
   "id": "61a77a11",
   "metadata": {},
   "outputs": [
    {
     "data": {
      "text/plain": [
       "([<matplotlib.patches.Wedge at 0x21bc9cf65f0>,\n",
       "  <matplotlib.patches.Wedge at 0x21bc9cf7b20>,\n",
       "  <matplotlib.patches.Wedge at 0x21bc9cf7f70>],\n",
       " [Text(-1.0898985666643963, -0.14873168587390712, 'M'),\n",
       "  Text(1.0575704387040057, -0.30256365806126984, 'L'),\n",
       "  Text(0.4427798906109309, 1.0069488410393908, 'S')])"
      ]
     },
     "execution_count": 39,
     "metadata": {},
     "output_type": "execute_result"
    },
    {
     "data": {
      "image/png": "[encoded data removed]",
      "text/plain": [
       "<Figure size 432x288 with 1 Axes>"
      ]
     },
     "metadata": {},
     "output_type": "display_data"
    }
   ],
   "source": [
    "plt.pie(df['company_size'].value_counts(),labels=['M','L','S'],startangle=90)"
   ]
  },
  {
   "cell_type": "markdown",
   "id": "bd22ef55",
   "metadata": {},
   "source": [
    "### Count of medium sized companies are higher than others, count of small sized companies is less than others."
   ]
  },
  {
   "cell_type": "code",
   "execution_count": 77,
   "id": "0c09a5d1",
   "metadata": {},
   "outputs": [
    {
     "data": {
      "text/plain": [
       "Text(0, 0.5, 'Count')"
      ]
     },
     "execution_count": 77,
     "metadata": {},
     "output_type": "execute_result"
    },
    {
     "data": {
      "image/png": "[encoded data removed]",
      "text/plain": [
       "<Figure size 432x288 with 1 Axes>"
      ]
     },
     "metadata": {
      "needs_background": "light"
     },
     "output_type": "display_data"
    }
   ],
   "source": [
    "plt.hist(df['employment_type'],color ='red')\n",
    "plt.xlabel(\"Employment_type\")\n",
    "plt.ylabel(\"Count\")"
   ]
  },
  {
   "cell_type": "markdown",
   "id": "b5f820e5",
   "metadata": {},
   "source": [
    "#### Companies hiring more employees in full time rather than hiring employees in part time or in contract basis"
   ]
  },
  {
   "cell_type": "code",
   "execution_count": 43,
   "id": "0815d684",
   "metadata": {},
   "outputs": [
    {
     "name": "stderr",
     "output_type": "stream",
     "text": [
      "C:\\Users\\ACER\\AppData\\Local\\Programs\\Python\\Python310\\lib\\site-packages\\seaborn\\_decorators.py:36: FutureWarning: Pass the following variable as a keyword arg: x. From version 0.12, the only valid positional argument will be `data`, and passing other arguments without an explicit keyword will result in an error or misinterpretation.\n",
      "  warnings.warn(\n"
     ]
    },
    {
     "data": {
      "text/plain": [
       "<AxesSubplot:xlabel='experience_level', ylabel='count'>"
      ]
     },
     "execution_count": 43,
     "metadata": {},
     "output_type": "execute_result"
    },
    {
     "data": {
      "image/png": "[encoded data removed]",
      "text/plain": [
       "<Figure size 432x288 with 1 Axes>"
      ]
     },
     "metadata": {
      "needs_background": "light"
     },
     "output_type": "display_data"
    }
   ],
   "source": [
    "sns.countplot(df['experience_level'])"
   ]
  },
  {
   "cell_type": "markdown",
   "id": "0c96fd54",
   "metadata": {},
   "source": [
    "##### MI - Middle level\n",
    "#####  EN - Entry level\n",
    "#####  SE - Senior level\n",
    "#####  EX - Executive level\n",
    "#### In terms experience of Senior level employees are more in AI job's.Which show that the companies are hiring highly experienced persons for AI jobs\n"
   ]
  },
  {
   "cell_type": "code",
   "execution_count": 75,
   "id": "48ad489f",
   "metadata": {},
   "outputs": [
    {
     "data": {
      "text/plain": [
       "Text(0, 0.5, 'Count of Employees')"
      ]
     },
     "execution_count": 75,
     "metadata": {},
     "output_type": "execute_result"
    },
    {
     "data": {
      "image/png": "[encoded data removed]",
      "text/plain": [
       "<Figure size 432x288 with 1 Axes>"
      ]
     },
     "metadata": {
      "needs_background": "light"
     },
     "output_type": "display_data"
    }
   ],
   "source": [
    "# Creating new dataframe for ploting years and the count of jobs in those years\n",
    "a=df.groupby('work_year').count()\n",
    "a=a.reset_index()\n",
    "a=a[['work_year','experience_level']]\n",
    "a=a.rename(columns={'experience_level':'count_of_employees'})\n",
    "a\n",
    "plt.plot(a['work_year'],a['count_of_employees'])\n",
    "plt.xlabel(\"Year\")\n",
    "plt.ylabel(\"Count of Employees\")"
   ]
  },
  {
   "cell_type": "markdown",
   "id": "52e7b0b9",
   "metadata": {},
   "source": [
    "#### Above chart clearly show that the demand for the AI increasing year by year"
   ]
  },
  {
   "cell_type": "code",
   "execution_count": 104,
   "id": "cc40a891",
   "metadata": {},
   "outputs": [
    {
     "data": {
      "text/plain": [
       "<BarContainer object of 5 artists>"
      ]
     },
     "execution_count": 104,
     "metadata": {},
     "output_type": "execute_result"
    },
    {
     "data": {
      "image/png": "[encoded data removed]",
      "text/plain": [
       "<Figure size 1008x432 with 1 Axes>"
      ]
     },
     "metadata": {
      "needs_background": "light"
     },
     "output_type": "display_data"
    }
   ],
   "source": [
    "# Top 5 demanding jobs in AI\n",
    "\n",
    "fig = plt.figure(figsize=(14, 6))\n",
    "ax = plt.axes()\n",
    "a=pd.DataFrame(df[\"job_title\"].value_counts())\n",
    "a=a.reset_index().head()\n",
    "a=a.rename(columns={'index':'Job Title'})\n",
    "plt.bar(a['Job Title'],a['job_title'])"
   ]
  },
  {
   "cell_type": "markdown",
   "id": "d2021634",
   "metadata": {},
   "source": [
    "#### Data Scientist and Data Engineer job's are having greater demand in AI job's."
   ]
  }
 ],
 "metadata": {
  "kernelspec": {
   "display_name": "Python 3 (ipykernel)",
   "language": "python",
   "name": "python3"
  },
  "language_info": {
   "codemirror_mode": {
    "name": "ipython",
    "version": 3
   },
   "file_extension": ".py",
   "mimetype": "text/x-python",
   "name": "python",
   "nbconvert_exporter": "python",
   "pygments_lexer": "ipython3",
   "version": "3.10.1"
  }
 },
 "nbformat": 4,
 "nbformat_minor": 5
}
